{
  "nbformat": 4,
  "nbformat_minor": 0,
  "metadata": {
    "colab": {
      "provenance": [],
      "authorship_tag": "ABX9TyP3IAY+FKjsDdGq+gjzxYFZ",
      "include_colab_link": true
    },
    "kernelspec": {
      "name": "python3",
      "display_name": "Python 3"
    },
    "language_info": {
      "name": "python"
    }
  },
  "cells": [
    {
      "cell_type": "markdown",
      "metadata": {
        "id": "view-in-github",
        "colab_type": "text"
      },
      "source": [
        "<a href=\"https://colab.research.google.com/github/jyoshini26/POAI-exp-9/blob/main/Untitled8.ipynb\" target=\"_parent\"><img src=\"https://colab.research.google.com/assets/colab-badge.svg\" alt=\"Open In Colab\"/></a>"
      ]
    },
    {
      "cell_type": "code",
      "execution_count": 1,
      "metadata": {
        "colab": {
          "base_uri": "https://localhost:8080/"
        },
        "id": "4pQPafEqtohC",
        "outputId": "d478ef8f-fd42-44bf-b955-9acde4d5b9c2"
      },
      "outputs": [
        {
          "output_type": "stream",
          "name": "stdout",
          "text": [
            "\n",
            "Initial State: {'A': 'B', 'B': 'table', 'C': 'table'}\n",
            "Moving B from table to C\n",
            "\n",
            "Final Goal State Reached: {'A': 'B', 'B': 'C', 'C': 'table'}\n"
          ]
        }
      ],
      "source": [
        "class BlocksWorld:\n",
        "    def __init__(self):\n",
        "        self.state = {\n",
        "            \"A\": \"B\",      # A is on B\n",
        "            \"B\": \"table\",  # B is on table\n",
        "            \"C\": \"table\"   # C is on table\n",
        "        }\n",
        "        self.goal = {\n",
        "            \"A\": \"B\",\n",
        "            \"B\": \"C\",\n",
        "            \"C\": \"table\"\n",
        "        }\n",
        "\n",
        "    def is_goal_state(self):\n",
        "        return self.state == self.goal\n",
        "\n",
        "    def move(self, block, destination):\n",
        "        if block in self.state and self.state[block] != destination:\n",
        "            print(f\"Moving {block} from {self.state[block]} to {destination}\")\n",
        "            self.state[block] = destination\n",
        "\n",
        "    def plan_moves(self):\n",
        "        print(\"\\nInitial State:\", self.state)\n",
        "        while not self.is_goal_state():\n",
        "            for block, target in self.goal.items():\n",
        "                if self.state[block] != target:\n",
        "                    self.move(block, target)\n",
        "        print(\"\\nFinal Goal State Reached:\", self.state)\n",
        "\n",
        "# --- Run the Blocks World Solver ---\n",
        "bw = BlocksWorld()\n",
        "bw.plan_moves()\n"
      ]
    }
  ]
}